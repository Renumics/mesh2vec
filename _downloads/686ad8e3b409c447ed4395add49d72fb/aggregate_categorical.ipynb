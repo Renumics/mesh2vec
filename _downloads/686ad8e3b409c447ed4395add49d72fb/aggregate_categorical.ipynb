{
  "cells": [
    {
      "cell_type": "code",
      "execution_count": null,
      "metadata": {
        "collapsed": false
      },
      "outputs": [],
      "source": [
        "%matplotlib inline"
      ]
    },
    {
      "cell_type": "markdown",
      "metadata": {},
      "source": [
        "\n# Aggregate Number of Borders Categorical\n"
      ]
    },
    {
      "cell_type": "code",
      "execution_count": null,
      "metadata": {
        "collapsed": false
      },
      "outputs": [],
      "source": [
        "# pylint: disable=pointless-statement\nfrom pathlib import Path\nimport numpy as np\nfrom mesh2vec.mesh2vec_cae import Mesh2VecCae"
      ]
    },
    {
      "cell_type": "markdown",
      "metadata": {},
      "source": [
        "## Load Shell and features from ANSA\n\n"
      ]
    },
    {
      "cell_type": "code",
      "execution_count": null,
      "metadata": {
        "collapsed": false
      },
      "outputs": [],
      "source": [
        "hg = Mesh2VecCae.from_ansa_shell(\n    2,\n    Path(\"../../data/hat/Hatprofile.k\"),\n    json_mesh_file=Path(\"../../data/hat/cached_hat_key.json\"),\n)\nhg.add_features_from_ansa(\n    [\"num_border\", \"is_tria\", \"midpoint\"],\n    ansafile=None,\n)"
      ]
    },
    {
      "cell_type": "markdown",
      "metadata": {},
      "source": [
        "## Plot Feature locally\n\n"
      ]
    },
    {
      "cell_type": "code",
      "execution_count": null,
      "metadata": {
        "collapsed": false
      },
      "outputs": [],
      "source": [
        "name = hg.aggregate(\"num_border\", 0, np.mean)\nfig = hg.get_visualization_plotly(str(name))\nfig.update_layout(title=name)\nfig"
      ]
    },
    {
      "cell_type": "markdown",
      "metadata": {},
      "source": [
        "## Aggregate Feature and plot\n\n"
      ]
    },
    {
      "cell_type": "code",
      "execution_count": null,
      "metadata": {
        "collapsed": false
      },
      "outputs": [],
      "source": [
        "names = hg.aggregate_categorical(\"num_border\", 1)\nNAME = \"num_border-cat-1-1\"\nfig = hg.get_visualization_plotly(str(name))\nfig.update_layout(title=NAME)\nfig"
      ]
    },
    {
      "cell_type": "markdown",
      "metadata": {},
      "source": [
        "## Access the results\n\n"
      ]
    },
    {
      "cell_type": "code",
      "execution_count": null,
      "metadata": {
        "collapsed": false
      },
      "outputs": [],
      "source": [
        "hg.to_dataframe()"
      ]
    }
  ],
  "metadata": {
    "kernelspec": {
      "display_name": "Python 3",
      "language": "python",
      "name": "python3"
    },
    "language_info": {
      "codemirror_mode": {
        "name": "ipython",
        "version": 3
      },
      "file_extension": ".py",
      "mimetype": "text/x-python",
      "name": "python",
      "nbconvert_exporter": "python",
      "pygments_lexer": "ipython3",
      "version": "3.9.16"
    }
  },
  "nbformat": 4,
  "nbformat_minor": 0
}