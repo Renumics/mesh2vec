{
  "cells": [
    {
      "cell_type": "code",
      "execution_count": null,
      "metadata": {
        "collapsed": false
      },
      "outputs": [],
      "source": [
        "%matplotlib inline"
      ]
    },
    {
      "cell_type": "markdown",
      "metadata": {},
      "source": [
        "\n# Aggregate Y-Stress\n"
      ]
    },
    {
      "cell_type": "code",
      "execution_count": null,
      "metadata": {
        "collapsed": false
      },
      "outputs": [],
      "source": [
        "# pylint: disable=pointless-statement\nfrom pathlib import Path\nimport numpy as np\nimport pandas as pd\nfrom lasso.dyna import ArrayType\nfrom mesh2vec.mesh2vec_cae import Mesh2VecCae"
      ]
    },
    {
      "cell_type": "markdown",
      "metadata": {},
      "source": [
        "## Load Shell from ANSA, simulation results from d3plot\n\n"
      ]
    },
    {
      "cell_type": "code",
      "execution_count": null,
      "metadata": {
        "collapsed": false
      },
      "outputs": [],
      "source": [
        "hg = Mesh2VecCae.from_ansa_shell(\n    10,\n    Path(\"../../data/hat/Hatprofile.k\"),\n    json_mesh_file=Path(\"../../data/hat/cached_hat_key.json\"),\n)\nhg.add_feature_from_d3plot(\n    ArrayType.element_shell_stress,\n    Path(\"../../data/hat/HAT.d3plot\"),\n    timestep=1,\n    shell_layer=0,\n)"
      ]
    },
    {
      "cell_type": "markdown",
      "metadata": {},
      "source": [
        "## Plot Feature locally\n\n"
      ]
    },
    {
      "cell_type": "code",
      "execution_count": null,
      "metadata": {
        "collapsed": false
      },
      "outputs": [],
      "source": [
        "hg.add_features_from_dataframe(\n    pd.DataFrame(\n        {\n            \"vtx_id\": hg.vtx_ids(),\n            \"y-stress\": [v[1] for v in hg.features()[ArrayType.element_shell_stress + \"_1_0\"]],\n        }\n    )\n)\nname = hg.aggregate(\"y-stress\", 0, np.mean)\nfig = hg.get_visualization_plotly(str(name))\nfig.update_layout(title=name)\nfig"
      ]
    },
    {
      "cell_type": "markdown",
      "metadata": {},
      "source": [
        "## Aggregate Feature and plot\n\n"
      ]
    },
    {
      "cell_type": "code",
      "execution_count": null,
      "metadata": {
        "collapsed": false
      },
      "outputs": [],
      "source": [
        "name = hg.aggregate(\"y-stress\", 1, np.mean)\nfig = hg.get_visualization_plotly(str(name))\nfig.update_layout(title=name)\nfig"
      ]
    },
    {
      "cell_type": "markdown",
      "metadata": {},
      "source": [
        "## Access the results\n\n"
      ]
    },
    {
      "cell_type": "code",
      "execution_count": null,
      "metadata": {
        "collapsed": false
      },
      "outputs": [],
      "source": [
        "hg.to_dataframe()"
      ]
    }
  ],
  "metadata": {
    "kernelspec": {
      "display_name": "Python 3",
      "language": "python",
      "name": "python3"
    },
    "language_info": {
      "codemirror_mode": {
        "name": "ipython",
        "version": 3
      },
      "file_extension": ".py",
      "mimetype": "text/x-python",
      "name": "python",
      "nbconvert_exporter": "python",
      "pygments_lexer": "ipython3",
      "version": "3.9.16"
    }
  },
  "nbformat": 4,
  "nbformat_minor": 0
}