{
  "cells": [
    {
      "cell_type": "markdown",
      "metadata": {},
      "source": [
        "\n# Plot Neighbor Distances\nThis example shows ho to plot the distances of nearby elements to a specific element (d<10)\n"
      ]
    },
    {
      "cell_type": "code",
      "execution_count": null,
      "metadata": {
        "collapsed": false
      },
      "outputs": [],
      "source": [
        "# pylint: disable=pointless-statement\n\nfrom pathlib import Path\nimport numpy as np\nimport pandas as pd\nfrom mesh2vec.mesh2vec_cae import Mesh2VecCae"
      ]
    },
    {
      "cell_type": "markdown",
      "metadata": {},
      "source": [
        "## Load Shell from ANSA\n\n"
      ]
    },
    {
      "cell_type": "code",
      "execution_count": null,
      "metadata": {
        "collapsed": false
      },
      "outputs": [],
      "source": [
        "hg = Mesh2VecCae.from_ansa_shell(\n    10,\n    Path(\"../../data/hat/Hatprofile.k\"),\n    json_mesh_file=Path(\"../../data/hat/cached_hat_key.json\"),\n)\ndf = hg.to_dataframe()"
      ]
    },
    {
      "cell_type": "markdown",
      "metadata": {},
      "source": [
        "## Find neighbors for specific node and store their distance\n\n"
      ]
    },
    {
      "cell_type": "code",
      "execution_count": null,
      "metadata": {
        "collapsed": false
      },
      "outputs": [],
      "source": [
        "TEST_EID = \"1001546\"\ndistances = range(0, 10)\ntest_neighborhood = [hg.get_nbh(TEST_EID, i) for i in distances]\nin_dist_range = np.array(\n    [[d if vtx in test_neighborhood[d] else 0 for vtx in hg.vtx_ids()] for d in distances]\n)\nin_dist_range.shape"
      ]
    },
    {
      "cell_type": "markdown",
      "metadata": {},
      "source": [
        "## Check number of neighbors\n\n"
      ]
    },
    {
      "cell_type": "code",
      "execution_count": null,
      "metadata": {
        "collapsed": false
      },
      "outputs": [],
      "source": [
        "np.sum(in_dist_range > 0, axis=1)"
      ]
    },
    {
      "cell_type": "markdown",
      "metadata": {},
      "source": [
        "## plot distance for neighbors\n\n"
      ]
    },
    {
      "cell_type": "code",
      "execution_count": null,
      "metadata": {
        "collapsed": false
      },
      "outputs": [],
      "source": [
        "hg.add_features_from_dataframe(\n    pd.DataFrame({\"vtx_id\": hg.vtx_ids(), \"f1\": np.sum(in_dist_range, axis=0)})\n)\nname = hg.aggregate(\"f1\", 0, np.mean)\nfig = hg.get_visualization_plotly(str(name))\nfig.update_layout(title=name)\nfig"
      ]
    },
    {
      "cell_type": "markdown",
      "metadata": {},
      "source": [
        "## Access the results\n\n"
      ]
    },
    {
      "cell_type": "code",
      "execution_count": null,
      "metadata": {
        "collapsed": false
      },
      "outputs": [],
      "source": [
        "hg.to_dataframe()"
      ]
    }
  ],
  "metadata": {
    "kernelspec": {
      "display_name": "Python 3",
      "language": "python",
      "name": "python3"
    },
    "language_info": {
      "codemirror_mode": {
        "name": "ipython",
        "version": 3
      },
      "file_extension": ".py",
      "mimetype": "text/x-python",
      "name": "python",
      "nbconvert_exporter": "python",
      "pygments_lexer": "ipython3",
      "version": "3.13.7"
    }
  },
  "nbformat": 4,
  "nbformat_minor": 0
}