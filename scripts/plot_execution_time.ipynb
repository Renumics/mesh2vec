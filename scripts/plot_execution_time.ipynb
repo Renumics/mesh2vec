{
 "cells": [
  {
   "cell_type": "code",
   "execution_count": null,
   "id": "05ed44a9",
   "metadata": {},
   "outputs": [],
   "source": [
    "from mesh2vec.mesh2vec_cae import Mesh2VecCae\n",
    "from pathlib import Path\n",
    "from functools import wraps\n",
    "import time\n",
    "import matplotlib.pyplot as plt"
   ]
  },
  {
   "cell_type": "code",
   "execution_count": null,
   "id": "d4510390",
   "metadata": {},
   "outputs": [],
   "source": [
    "\"\"\"\n",
    "Credit: https://dev.to/kcdchennai/python-decorator-to-measure-execution-time-54hk\n",
    "\"\"\"\n",
    "\n",
    "\n",
    "def timeit(func):\n",
    "    @wraps(func)\n",
    "    def timeit_wrapper(*args, **kwargs):\n",
    "        # time.perf_counter() more accurate than time.time()\n",
    "        start_time = time.perf_counter()\n",
    "        result = func(*args, **kwargs)\n",
    "        end_time = time.perf_counter()\n",
    "        total_time = end_time - start_time\n",
    "        # result of construction irrelevant, we just want the elapsed time\n",
    "        return total_time\n",
    "    return timeit_wrapper\n",
    "\n",
    "\n",
    "@timeit\n",
    "def measure_from_ansa(distance):\n",
    "    \"\"\"\n",
    "    Collect time it takes to construct vector\n",
    "    \"\"\"\n",
    "    m2v = Mesh2VecCae.from_ansa_shell(\n",
    "        distance,\n",
    "        Path(\"../data/hat/Hatprofile.k\"),\n",
    "        json_mesh_file=Path(\"../data/hat/cached_hat_key.json\")\n",
    "    )\n"
   ]
  },
  {
   "cell_type": "code",
   "execution_count": null,
   "id": "63d7ce86",
   "metadata": {},
   "outputs": [],
   "source": [
    "plot_dict = dict()\n",
    "\n",
    "for i in range(1, 41):\n",
    "    time_elapsed = measure_from_ansa(i)\n",
    "    plot_dict.update({str(i): time_elapsed})"
   ]
  },
  {
   "cell_type": "code",
   "execution_count": null,
   "id": "d9fcead0",
   "metadata": {},
   "outputs": [],
   "source": [
    "plot_dict"
   ]
  },
  {
   "cell_type": "code",
   "execution_count": null,
   "id": "d5bffb97",
   "metadata": {},
   "outputs": [],
   "source": [
    "plt.figure(figsize=(12, 12))\n",
    "plt.plot(plot_dict.keys(), plot_dict.values())\n",
    "plt.xlabel(\"neighbors\")\n",
    "plt.ylabel(\"construction time\")\n",
    "\n",
    "plt.savefig('mesh2vec_times.png')\n",
    "\n",
    "plt.show()"
   ]
  },
  {
   "cell_type": "code",
   "execution_count": null,
   "id": "4c71e44b",
   "metadata": {},
   "outputs": [],
   "source": []
  }
 ],
 "metadata": {
  "kernelspec": {
   "display_name": "Python 3 (ipykernel)",
   "language": "python",
   "name": "python3"
  },
  "language_info": {
   "codemirror_mode": {
    "name": "ipython",
    "version": 3
   },
   "file_extension": ".py",
   "mimetype": "text/x-python",
   "name": "python",
   "nbconvert_exporter": "python",
   "pygments_lexer": "ipython3",
   "version": "3.10.12"
  }
 },
 "nbformat": 4,
 "nbformat_minor": 5
}
