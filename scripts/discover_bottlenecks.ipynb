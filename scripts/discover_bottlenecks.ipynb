{
 "cells": [
  {
   "cell_type": "markdown",
   "id": "3f4b82e7",
   "metadata": {},
   "source": [
    "## Methodology\n",
    "\n",
    "Inspect calc_adjacencies in mesh2vec.mesh2vec.helpers.py from different angles to pinpoint bottlenck(s):\n",
    "- Use time as measurement to find obvious bottlenecks\n",
    "- Use a profiler (in this case: cProfile) to inspect statistics about each section (e.g.: number of function calls, cumulative time spent on function, ..)"
   ]
  },
  {
   "cell_type": "code",
   "execution_count": null,
   "id": "8089532b",
   "metadata": {},
   "outputs": [],
   "source": [
    "STATS_OUTPUT_FILE = \"profile_stats.txt\""
   ]
  },
  {
   "cell_type": "markdown",
   "id": "f7caade1",
   "metadata": {},
   "source": [
    "### Imports"
   ]
  },
  {
   "cell_type": "code",
   "execution_count": null,
   "id": "7a8ff956",
   "metadata": {},
   "outputs": [],
   "source": [
    "# perf counter more accurate than using time.time()\n",
    "from time import perf_counter\n",
    "\n",
    "from pstats import SortKey, Stats\n",
    "import io\n",
    "from cProfile import Profile\n",
    "\n",
    "from pathlib import Path\n",
    "from mesh2vec.mesh2vec_cae import Mesh2VecCae"
   ]
  },
  {
   "cell_type": "code",
   "execution_count": null,
   "id": "d78841c7",
   "metadata": {},
   "outputs": [],
   "source": [
    "pr = Profile()\n",
    "pr.enable()\n",
    "Mesh2VecCae.from_ansa_shell(25,Path(\"../data/hat/Hatprofile.k\"),\n",
    "                                  json_mesh_file=Path(\"../data/hat/cached_hat_key.json\"))  \n",
    "pr.disable()\n",
    "s = io.StringIO()\n",
    "sortby = SortKey.CUMULATIVE\n",
    "ps = Stats(pr, stream=s).sort_stats(sortby)\n",
    "ps.print_stats()\n",
    "\n",
    "# write profiling stats to file\n",
    "with open(STATS_OUTPUT_FILE, 'w+') as f:\n",
    "    f.write(s.getvalue())"
   ]
  },
  {
   "cell_type": "markdown",
   "id": "85e2e6d1",
   "metadata": {},
   "source": [
    "## Interactive visualization of profiling results"
   ]
  },
  {
   "cell_type": "code",
   "execution_count": null,
   "id": "66cb58db",
   "metadata": {},
   "outputs": [],
   "source": [
    "%load_ext snakeviz\n",
    "%snakeviz Mesh2VecCae.from_ansa_shell(25,Path(\"../data/hat/Hatprofile.k\"),json_mesh_file=Path(\"../data/hat/cached_hat_key.json\"))"
   ]
  },
  {
   "cell_type": "code",
   "execution_count": null,
   "id": "ac198351",
   "metadata": {},
   "outputs": [],
   "source": []
  }
 ],
 "metadata": {
  "kernelspec": {
   "display_name": "Python 3 (ipykernel)",
   "language": "python",
   "name": "python3"
  },
  "language_info": {
   "codemirror_mode": {
    "name": "ipython",
    "version": 3
   },
   "file_extension": ".py",
   "mimetype": "text/x-python",
   "name": "python",
   "nbconvert_exporter": "python",
   "pygments_lexer": "ipython3",
   "version": "3.10.12"
  }
 },
 "nbformat": 4,
 "nbformat_minor": 5
}
